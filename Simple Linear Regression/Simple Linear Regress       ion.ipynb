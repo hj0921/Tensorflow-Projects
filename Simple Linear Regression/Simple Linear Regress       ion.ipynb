{
 "cells": [
  {
   "cell_type": "code",
   "execution_count": 10,
   "metadata": {},
   "outputs": [],
   "source": [
    "import tensorflow as tf\n",
    "import numpy as np\n",
    "import matplotlib.pylab as plt\n",
    "%matplotlib inline "
   ]
  },
  {
   "cell_type": "code",
   "execution_count": 16,
   "metadata": {},
   "outputs": [
    {
     "data": {
      "image/png": "[encoded data removed]",
      "text/plain": [
       "<matplotlib.figure.Figure at 0x24e73981f60>"
      ]
     },
     "metadata": {},
     "output_type": "display_data"
    }
   ],
   "source": [
    "train_x = np.linspace(-1, 1, 100)\n",
    "train_y = 2 *  train_x + np.random.randn(*train_x.shape) * 0.3\n",
    "plt.plot(train_x, train_y, 'o', label = 'Random Generated Points')\n",
    "plt.legend()\n",
    "plt.show()"
   ]
  },
  {
   "cell_type": "code",
   "execution_count": 17,
   "metadata": {},
   "outputs": [],
   "source": [
    "# input and output\n",
    "X = tf.placeholder(\"float\")\n",
    "Y = tf.placeholder(\"float\")\n",
    "\n",
    "# parameters\n",
    "W = tf.Variable(tf.random_normal([1]), name = 'weight')\n",
    "B = tf.Variable(tf.zeros([1]), name = 'bias')\n",
    "\n",
    "# forward propagation\n",
    "Z = tf.multiply(X, W) + B\n",
    "\n",
    "# back propagation\n",
    "cost = tf.reduce_mean(tf.square(Y - Z))\n",
    "\n",
    "learning_rate = 0.01\n",
    "optimizer = tf.train.GradientDescentOptimizer(learning_rate=learning_rate).minimize(cost)"
   ]
  },
  {
   "cell_type": "code",
   "execution_count": 18,
   "metadata": {},
   "outputs": [
    {
     "name": "stdout",
     "output_type": "stream",
     "text": [
      "Epoch:  1   cost:  0.1959197      W:  [1.5227146] b:  [0.15177503]\n",
      "Epoch:  2   cost:  0.11135853      W:  [1.7813001] b:  [0.09241803]\n",
      "Epoch:  3   cost:  0.08576516      W:  [1.9195863] b:  [0.04452384]\n",
      "Epoch:  4   cost:  0.079345904      W:  [1.990786] b:  [0.01787229]\n",
      "Epoch:  5   cost:  0.07794083      W:  [2.027105] b:  [0.00402215]\n",
      "Epoch:  6   cost:  0.07771727      W:  [2.0455887] b:  [-0.0030596]\n",
      "Epoch:  7   cost:  0.07773118      W:  [2.0549898] b:  [-0.00666574]\n",
      "Epoch:  8   cost:  0.077771276      W:  [2.059769] b:  [-0.00849966]\n",
      "Epoch:  9   cost:  0.077800214      W:  [2.0622] b:  [-0.00943241]\n",
      "Epoch:  10   cost:  0.07781714      W:  [2.0634363] b:  [-0.00990682]\n",
      "Epoch:  11   cost:  0.077826306      W:  [2.0640647] b:  [-0.01014803]\n",
      "Epoch:  12   cost:  0.07783111      W:  [2.0643835] b:  [-0.01027022]\n",
      "Epoch:  13   cost:  0.07783361      W:  [2.0645463] b:  [-0.01033283]\n",
      "Epoch:  14   cost:  0.077834874      W:  [2.0646286] b:  [-0.01036441]\n",
      "Epoch:  15   cost:  0.07783554      W:  [2.0646713] b:  [-0.01038082]\n",
      "Epoch:  16   cost:  0.07783586      W:  [2.0646923] b:  [-0.01038897]\n",
      "Epoch:  17   cost:  0.07783603      W:  [2.064704] b:  [-0.01039318]\n",
      "Epoch:  18   cost:  0.077836126      W:  [2.0647092] b:  [-0.01039538]\n",
      "Epoch:  19   cost:  0.077836156      W:  [2.0647118] b:  [-0.0103964]\n",
      "Epoch:  20   cost:  0.07783618      W:  [2.0647135] b:  [-0.01039699]\n",
      "Finished!\n",
      "cost:  0.07783618 W:  [2.0647135] b:  [-0.01039699]\n"
     ]
    }
   ],
   "source": [
    "init = tf.global_variables_initializer()\n",
    "training_epochs = 20\n",
    "\n",
    "with tf.Session() as sess:\n",
    "    sess.run(init)\n",
    "    plotdata = {\"batch_size\":[], \"loss\":[]}\n",
    "    for epoch in range(training_epochs):\n",
    "        for (x,y) in zip(train_x, train_y):\n",
    "            sess.run(optimizer, feed_dict={X:x, Y:y})\n",
    "            \n",
    "        loss = sess.run(cost, feed_dict={X:train_x, Y:train_y})\n",
    "        print(\"Epoch: \", epoch+1, \"  cost: \", loss, \"     W: \", sess.run(W), \"b: \", sess.run(B))\n",
    "        \n",
    "        if not (loss == \"NA\"):\n",
    "            plotdata[\"batch_size\"].append(epoch)\n",
    "            plotdata[\"loss\"].append(loss)\n",
    "    \n",
    "    print(\"Finished!\")\n",
    "    print(\"cost: \", sess.run(cost, feed_dict={X:train_x, Y:train_y}), \"W: \", sess.run(W), \"b: \", sess.run(B))\n",
    "    \n",
    "    \n",
    "    "
   ]
  }
 ],
 "metadata": {
  "kernelspec": {
   "display_name": "Python 3",
   "language": "python",
   "name": "python3"
  },
  "language_info": {
   "codemirror_mode": {
    "name": "ipython",
    "version": 3
   },
   "file_extension": ".py",
   "mimetype": "text/x-python",
   "name": "python",
   "nbconvert_exporter": "python",
   "pygments_lexer": "ipython3",
   "version": "3.6.5"
  }
 },
 "nbformat": 4,
 "nbformat_minor": 2
}
